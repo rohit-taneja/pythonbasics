{
 "cells": [
  {
   "cell_type": "code",
   "execution_count": 6,
   "metadata": {
    "collapsed": false
   },
   "outputs": [
    {
     "name": "stdout",
     "output_type": "stream",
     "text": [
      "Hello World!\n"
     ]
    }
   ],
   "source": [
    "print('Hello World!')\n"
   ]
  },
  {
   "cell_type": "code",
   "execution_count": 7,
   "metadata": {
    "collapsed": false
   },
   "outputs": [],
   "source": [
    "_ = \"\"\"\n",
    "language classification\n",
    "  - types\n",
    "  - interpreted\n",
    "  \n",
    "- python used?\n",
    "  - youtube, dropbox, linux os utilities\n",
    "  - https://www.paypal-engineering.com/2014/12/10/10-myths-of-enterprise-python/\n",
    "  - largest library\n",
    "- repl\n",
    "  - python\n",
    "  - ipython\n",
    "\"\"\""
   ]
  },
  {
   "cell_type": "code",
   "execution_count": 8,
   "metadata": {
    "collapsed": true
   },
   "outputs": [],
   "source": [
    "# this is a comment"
   ]
  },
  {
   "cell_type": "code",
   "execution_count": 9,
   "metadata": {
    "collapsed": false
   },
   "outputs": [
    {
     "name": "stdout",
     "output_type": "stream",
     "text": [
      "7\n",
      "apple\n"
     ]
    },
    {
     "ename": "NameError",
     "evalue": "name 'x' is not defined",
     "output_type": "error",
     "traceback": [
      "\u001b[0;31m---------------------------------------------------------------------------\u001b[0m",
      "\u001b[0;31mNameError\u001b[0m                                 Traceback (most recent call last)",
      "\u001b[0;32m<ipython-input-9-da10ae3c19b5>\u001b[0m in \u001b[0;36m<module>\u001b[0;34m()\u001b[0m\n\u001b[1;32m      5\u001b[0m \u001b[0mprint\u001b[0m\u001b[0;34m(\u001b[0m\u001b[0mx\u001b[0m\u001b[0;34m)\u001b[0m\u001b[0;34m\u001b[0m\u001b[0m\n\u001b[1;32m      6\u001b[0m \u001b[0;32mdel\u001b[0m \u001b[0mx\u001b[0m\u001b[0;34m\u001b[0m\u001b[0m\n\u001b[0;32m----> 7\u001b[0;31m \u001b[0mprint\u001b[0m\u001b[0;34m(\u001b[0m\u001b[0mx\u001b[0m\u001b[0;34m)\u001b[0m\u001b[0;34m\u001b[0m\u001b[0m\n\u001b[0m",
      "\u001b[0;31mNameError\u001b[0m: name 'x' is not defined"
     ]
    }
   ],
   "source": [
    "# variables\n",
    "x = 7\n",
    "print(x)\n",
    "x = 'apple'\n",
    "print(x)\n",
    "del x\n",
    "print(x)"
   ]
  },
  {
   "cell_type": "code",
   "execution_count": null,
   "metadata": {
    "collapsed": false
   },
   "outputs": [],
   "source": [
    "# multiple assignment\n",
    "x, y = 3,4\n",
    "print(x,y)"
   ]
  },
  {
   "cell_type": "code",
   "execution_count": null,
   "metadata": {
    "collapsed": false
   },
   "outputs": [],
   "source": [
    "# swapping\n",
    "y, x = x, y\n",
    "print(x,y)"
   ]
  },
  {
   "cell_type": "code",
   "execution_count": null,
   "metadata": {
    "collapsed": false
   },
   "outputs": [],
   "source": [
    "x, y = None, None\n",
    "print(x, y)"
   ]
  },
  {
   "cell_type": "code",
   "execution_count": null,
   "metadata": {
    "collapsed": false
   },
   "outputs": [],
   "source": [
    "# equality - 'is' is not ==\n",
    "# is  compares references; checking for same object\n",
    "# ==  calls the __eq__ function, checks for same value\n",
    "# !=  calls the __ne__ function, checks for same value"
   ]
  },
  {
   "cell_type": "code",
   "execution_count": null,
   "metadata": {
    "collapsed": false
   },
   "outputs": [],
   "source": [
    "# Is it true?\n",
    "t, f = True, False\n",
    "print(2 == 2)\n",
    "print(2 is 2)"
   ]
  },
  {
   "cell_type": "code",
   "execution_count": null,
   "metadata": {
    "collapsed": false
   },
   "outputs": [],
   "source": [
    "x = 100000\n",
    "y = 100000\n",
    "\n",
    "i, j = 1, 1\n",
    "\n",
    "print(i == j)\n",
    "print(i is j)\n",
    "\n",
    "print(x == y)\n",
    "print(x is y)"
   ]
  },
  {
   "cell_type": "code",
   "execution_count": null,
   "metadata": {
    "collapsed": false
   },
   "outputs": [],
   "source": [
    "# conditions\n",
    "if 2 is 2:\n",
    "    print('but obviously')\n",
    "\n",
    "if 'abc' is 'abc':\n",
    "    print('abc')\n",
    "    \n",
    "if 'abc' is not 2:\n",
    "    print(\"this will print\")\n",
    "elif 'abc' is 'abc':\n",
    "    print('elif prints')\n",
    "else:\n",
    "    print('not this though')\n",
    "    \n",
    "if 2:\n",
    "    print('truthy baby')\n",
    "    \n",
    "if 0:\n",
    "    print(\"won't print\")\n",
    "else:\n",
    "    print(\"falsy baby\")"
   ]
  },
  {
   "cell_type": "code",
   "execution_count": null,
   "metadata": {
    "collapsed": false
   },
   "outputs": [],
   "source": [
    "# lists\n",
    "empty_list = []\n",
    "x = [1,2,3,4,5]\n",
    "x.append(6)\n",
    "y = list()\n",
    "y.append(1)\n",
    "print(x,y)\n",
    "\n",
    "if x:\n",
    "    print('truthy baby')\n",
    "else:\n",
    "    print (\"won't print\")\n",
    "    \n",
    "if not empty_list:\n",
    "    print('finally found an empty list, I can retire now')"
   ]
  },
  {
   "cell_type": "code",
   "execution_count": null,
   "metadata": {
    "collapsed": false
   },
   "outputs": [],
   "source": [
    "# index access for lists    \n",
    "print(x[0])\n",
    "print(x[1])\n",
    "print(x[-1]) #negative indices\n",
    "print(x[2:4])\n",
    "print(x[1:])\n",
    "print(x[-1:])\n",
    "print(x[-3:-1]) #splicing"
   ]
  },
  {
   "cell_type": "code",
   "execution_count": null,
   "metadata": {
    "collapsed": false
   },
   "outputs": [],
   "source": [
    "# hetrogenous lists\n",
    "hlist = ['apple', True, 42]\n",
    "print(hlist)"
   ]
  },
  {
   "cell_type": "code",
   "execution_count": null,
   "metadata": {
    "collapsed": false
   },
   "outputs": [],
   "source": [
    "# list comprehension\n",
    "numbers = range(0,100)\n",
    "\n",
    "even = [i for i in numbers if i % 2 is 0]\n",
    "odd = [i for i in numbers if i % 2 is not 0]\n",
    "variant = [i + 1000 for i in numbers if i % 2 is 0]\n",
    "\n",
    "print(even, odd, variant, sep='\\n\\n')"
   ]
  },
  {
   "cell_type": "code",
   "execution_count": null,
   "metadata": {
    "collapsed": false
   },
   "outputs": [],
   "source": [
    "# dictionary\n",
    "d = {}\n",
    "d = {'a':'apple', 'b':'ball'} #json if you use double quotes\n",
    "d = {\"a\":\"apple\", \"b\":\"ball\"}\n",
    "print(d)"
   ]
  },
  {
   "cell_type": "code",
   "execution_count": null,
   "metadata": {
    "collapsed": false
   },
   "outputs": [],
   "source": [
    "d['c'] = 'cat'\n",
    "print(d)"
   ]
  },
  {
   "cell_type": "code",
   "execution_count": null,
   "metadata": {
    "collapsed": false
   },
   "outputs": [],
   "source": [
    "d['x']"
   ]
  },
  {
   "cell_type": "code",
   "execution_count": null,
   "metadata": {
    "collapsed": false
   },
   "outputs": [],
   "source": [
    "print(d.get('b'))\n",
    "print(d.get('x'))"
   ]
  },
  {
   "cell_type": "code",
   "execution_count": null,
   "metadata": {
    "collapsed": false
   },
   "outputs": [],
   "source": [
    "print(d.get('e', '**'))"
   ]
  },
  {
   "cell_type": "code",
   "execution_count": null,
   "metadata": {
    "collapsed": false
   },
   "outputs": [],
   "source": [
    "for each in range(0,10):\n",
    "    print(each)"
   ]
  },
  {
   "cell_type": "code",
   "execution_count": null,
   "metadata": {
    "collapsed": false
   },
   "outputs": [],
   "source": [
    "x = 2\n",
    "while x < 4:\n",
    "    print('ha')\n",
    "    x += 1"
   ]
  },
  {
   "cell_type": "code",
   "execution_count": null,
   "metadata": {
    "collapsed": false
   },
   "outputs": [],
   "source": [
    "p = (4,'apple')\n",
    "print(p[0])\n",
    "p[0] = 3"
   ]
  },
  {
   "cell_type": "code",
   "execution_count": null,
   "metadata": {
    "collapsed": false
   },
   "outputs": [],
   "source": [
    "def will_boss_give_me_a_raise(x, luck=True, hard_work=10000):\n",
    "    print(hard_work)\n",
    "    return True\n",
    "\n",
    "print(will_boss_give_me_a_raise(3, hard_work=None))\n",
    "print(will_boss_give_me_a_raise)"
   ]
  },
  {
   "cell_type": "code",
   "execution_count": null,
   "metadata": {
    "collapsed": false
   },
   "outputs": [],
   "source": [
    "def printer(self):\n",
    "    return 'Kashif works really hard, really!'\n",
    "\n",
    "class Work:\n",
    "    pass\n",
    "\n",
    "Work.__str__ = printer\n",
    "\n",
    "class HardWork(Work):\n",
    "    pass\n",
    "\n",
    "\n",
    "h = HardWork()\n",
    "\n",
    "print(will_boss_give_me_a_raise('does it matter' ,hard_work=h)) \n"
   ]
  },
  {
   "cell_type": "code",
   "execution_count": null,
   "metadata": {
    "collapsed": false
   },
   "outputs": [],
   "source": [
    "_ = \"\"\"\n",
    "#TODO\n",
    "  - dictionaries\n",
    "  - iteration\n",
    "  - default values\n",
    "- loops\n",
    "  - for each\n",
    "  - ranges\n",
    "- tuples\n",
    "- printing\n",
    "- functions\n",
    "  - optional params\n",
    "  - argument unpacking\n",
    "- classes\n",
    "  - dunder methods\n",
    "- exceptions\n",
    "- import this\n",
    "- advanced\n",
    "  - reflection\n",
    "  - decorators\n",
    "  - generators\n",
    "  - context manager - with\n",
    "  - annotations\n",
    "  - coroutines\n",
    "\"\"\""
   ]
  },
  {
   "cell_type": "code",
   "execution_count": null,
   "metadata": {
    "collapsed": true
   },
   "outputs": [],
   "source": []
  }
 ],
 "metadata": {
  "kernelspec": {
   "display_name": "Python 3",
   "language": "python",
   "name": "python3"
  },
  "language_info": {
   "codemirror_mode": {
    "name": "ipython",
    "version": 3
   },
   "file_extension": ".py",
   "mimetype": "text/x-python",
   "name": "python",
   "nbconvert_exporter": "python",
   "pygments_lexer": "ipython3",
   "version": "3.4.2"
  }
 },
 "nbformat": 4,
 "nbformat_minor": 0
}
